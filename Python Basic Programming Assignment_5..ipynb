{
 "cells": [
  {
   "cell_type": "markdown",
   "metadata": {},
   "source": [
    "# Python Basic Programming Assignment_5."
   ]
  },
  {
   "cell_type": "raw",
   "metadata": {},
   "source": [
    "1. Write a Python Program to Find LCM?"
   ]
  },
  {
   "cell_type": "code",
   "execution_count": 56,
   "metadata": {},
   "outputs": [
    {
     "name": "stdout",
     "output_type": "stream",
     "text": [
      "Enter the 1st number:5\n",
      "Enter the 2nd number:8\n",
      "The LCM of 5 and 8 is 40\n"
     ]
    }
   ],
   "source": [
    "a=int(input(\"Enter the 1st number:\"))\n",
    "b=int(input(\"Enter the 2nd number:\"))\n",
    "\n",
    "if a>b:\n",
    "    greater=a\n",
    "else:\n",
    "    greater=b\n",
    "    \n",
    "while(True):\n",
    "    if ((greater%a==0) and (greater%b==0)):\n",
    "        lcm=greater\n",
    "        break\n",
    "    greater =greater+1\n",
    "print(\"The LCM of\",a,\"and\", b, \"is\",lcm)"
   ]
  },
  {
   "cell_type": "raw",
   "metadata": {},
   "source": [
    "2. Write a Python Program to Find HCF?"
   ]
  },
  {
   "cell_type": "code",
   "execution_count": 8,
   "metadata": {},
   "outputs": [
    {
     "name": "stdout",
     "output_type": "stream",
     "text": [
      "The H.C.F. is 12\n"
     ]
    }
   ],
   "source": [
    "\n",
    "def HCF(x, y):\n",
    "    \n",
    "    if x > y:\n",
    "        smaller = y\n",
    "    else:\n",
    "        smaller = x\n",
    "    for i in range(1, smaller+1):\n",
    "        if((x % i == 0) and (y % i == 0)):\n",
    "            hcf = i \n",
    "    return hcf\n",
    "\n",
    "\n",
    "print(\"The H.C.F. is\", HCF(24, 36))\n"
   ]
  },
  {
   "cell_type": "raw",
   "metadata": {},
   "source": [
    "3. Write a Python Program to Convert Decimal to Binary, Octal and Hexadecimal?"
   ]
  },
  {
   "cell_type": "code",
   "execution_count": 12,
   "metadata": {},
   "outputs": [
    {
     "name": "stdout",
     "output_type": "stream",
     "text": [
      "Enter the decimal:15\n",
      "The decimal of  15 is:\n",
      "0b1111 in Binary.\n",
      "0o17 in Octal.\n",
      "0xf in Hexadecimal.\n"
     ]
    }
   ],
   "source": [
    "n=int(input(\"Enter the decimal:\"))\n",
    "\n",
    "print(\"The decimal of \", n, \"is:\")\n",
    "print(bin(n), \"in Binary.\")\n",
    "print(oct(n),\"in Octal.\")\n",
    "print(hex(n),\"in Hexadecimal.\")"
   ]
  },
  {
   "cell_type": "raw",
   "metadata": {},
   "source": [
    "4. Write a Python Program To Find ASCII value of a character?"
   ]
  },
  {
   "cell_type": "code",
   "execution_count": 15,
   "metadata": {},
   "outputs": [
    {
     "name": "stdout",
     "output_type": "stream",
     "text": [
      "The ASCII value of b is 98\n"
     ]
    }
   ],
   "source": [
    "a=\"b\"                #ASCII means American Standard Code For Information Interchange.\n",
    "print(\"The ASCII value of\",a, \"is\", ord(a))"
   ]
  },
  {
   "cell_type": "raw",
   "metadata": {},
   "source": [
    "5. Write a Python Program to Make a Simple Calculator with 4 basic mathematical operations?"
   ]
  },
  {
   "cell_type": "code",
   "execution_count": 3,
   "metadata": {},
   "outputs": [
    {
     "name": "stdout",
     "output_type": "stream",
     "text": [
      "Selcet Operations\n",
      "Select 1 for Addition Operation.\n",
      "Select 2 for Subtraction Operation.\n",
      "Select 3 for Multiplication Operation.\n",
      "Select 4 for Division Operation.\n",
      "Enter the choice(1/2/3/4:4\n",
      "Enter the  first number: 10\n",
      "Enter the second number: 2\n",
      "10 / 2 = 5.0\n"
     ]
    }
   ],
   "source": [
    "\n",
    "def add(a,b):           #Addition.\n",
    "    return a+b\n",
    "\n",
    "def sub(a,b):           #Subtraction.\n",
    "    return a-b\n",
    "\n",
    "def mul(a,b):           #Multiplications.\n",
    "    return a*b\n",
    "\n",
    "def divide(a,b):        #Division.\n",
    "    return a/b\n",
    "\n",
    "print(\"Selcet Operations\")\n",
    "print(\"Select 1 for Addition Operation.\")\n",
    "print(\"Select 2 for Subtraction Operation.\")\n",
    "print(\"Select 3 for Multiplication Operation.\")\n",
    "print(\"Select 4 for Division Operation.\")\n",
    "\n",
    "while True:\n",
    "    \n",
    "    User_input= input(\"Enter the choice(1/2/3/4:\")   #Input from User.\n",
    "    \n",
    "    if User_input in ('1','2','3','4'):\n",
    "        n1=int(input(\"Enter the  first number: \"))     #Enter the value from user.\n",
    "        n2=int(input(\"Enter the second number: \"))\n",
    "        \n",
    "        if User_input == '1':\n",
    "            print(n1, \"+\", n2 ,\"=\", add(n1,n2))\n",
    "        \n",
    "        elif User_input == '2':\n",
    "            print(n1, \"-\", n2 ,\"=\", sub(n1,n2))\n",
    "        \n",
    "        elif User_input == '3':\n",
    "            print(n1, \"*\", n2 ,\"=\", mul(n1,n2))\n",
    "            \n",
    "        elif User_input == '4':\n",
    "            print(n1, \"/\", n2 ,\"=\", divide(n1,n2))\n",
    "            \n",
    "        break\n",
    "    \n",
    "    else:\n",
    "        print(\"Invalid Input.\")"
   ]
  },
  {
   "cell_type": "code",
   "execution_count": null,
   "metadata": {},
   "outputs": [],
   "source": []
  }
 ],
 "metadata": {
  "kernelspec": {
   "display_name": "Python 3",
   "language": "python",
   "name": "python3"
  },
  "language_info": {
   "codemirror_mode": {
    "name": "ipython",
    "version": 3
   },
   "file_extension": ".py",
   "mimetype": "text/x-python",
   "name": "python",
   "nbconvert_exporter": "python",
   "pygments_lexer": "ipython3",
   "version": "3.7.1"
  }
 },
 "nbformat": 4,
 "nbformat_minor": 2
}
